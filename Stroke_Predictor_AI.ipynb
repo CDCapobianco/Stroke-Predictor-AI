{
  "nbformat": 4,
  "nbformat_minor": 0,
  "metadata": {
    "colab": {
      "name": "Stroke Predictor AI.ipynb",
      "provenance": [],
      "mount_file_id": "1wgzeks74HEs44qdO1tERK4IdvYjBlCL0",
      "authorship_tag": "ABX9TyMWo7WpxIvstnNWQj5I6Yzj"
    },
    "kernelspec": {
      "name": "python3",
      "display_name": "Python 3"
    },
    "language_info": {
      "name": "python"
    }
  },
  "cells": [
    {
      "cell_type": "markdown",
      "source": [
        "# **Download the Dataset**"
      ],
      "metadata": {
        "id": "r-Bn_WuLS8Ri"
      }
    },
    {
      "cell_type": "code",
      "execution_count": 1,
      "metadata": {
        "id": "tfoy4TMiR9Ik"
      },
      "outputs": [],
      "source": [
        "! rm -r ~/.kaggle\n",
        "! mkdir ~/.kaggle\n",
        "! cp /content/drive/MyDrive/kaggle.json ~/.kaggle/kaggle.json\n",
        "! chmod 600 ~/.kaggle/kaggle.json"
      ]
    },
    {
      "cell_type": "code",
      "source": [
        "! kaggle datasets download fedesoriano/stroke-prediction-dataset"
      ],
      "metadata": {
        "colab": {
          "base_uri": "https://localhost:8080/"
        },
        "id": "3hytL9W_Synj",
        "outputId": "7cea3cac-6ce1-4d67-9df5-0163cb20512d"
      },
      "execution_count": 2,
      "outputs": [
        {
          "output_type": "stream",
          "name": "stdout",
          "text": [
            "stroke-prediction-dataset.zip: Skipping, found more recently modified local copy (use --force to force download)\n"
          ]
        }
      ]
    },
    {
      "cell_type": "markdown",
      "source": [
        "# **Data Cleaning & Exploration**"
      ],
      "metadata": {
        "id": "thKq7WDyTAgV"
      }
    },
    {
      "cell_type": "code",
      "source": [
        "import zipfile\n",
        "ZIP_PATH = \"/content/stroke-prediction-dataset.zip\"\n",
        "EXTRACT_PATH = \"/content/dataset\"\n",
        "\n",
        "with zipfile.ZipFile(ZIP_PATH,\"r\") as zip_ref:\n",
        "  zip_ref.extractall(EXTRACT_PATH)\n"
      ],
      "metadata": {
        "id": "V8PjmZTgTDmf"
      },
      "execution_count": 3,
      "outputs": []
    },
    {
      "cell_type": "code",
      "source": [
        "import pandas as pd\n",
        "\n",
        "CSV_PATH = \"/content/dataset/healthcare-dataset-stroke-data.csv\"\n",
        "\n",
        "dataset = pd.read_csv(CSV_PATH)"
      ],
      "metadata": {
        "id": "4q3hjw4RTusS"
      },
      "execution_count": 4,
      "outputs": []
    },
    {
      "cell_type": "code",
      "source": [
        "dataset.head()"
      ],
      "metadata": {
        "colab": {
          "base_uri": "https://localhost:8080/",
          "height": 206
        },
        "id": "S1Y6kBIbV6gT",
        "outputId": "be7bef54-35b1-428d-ab8c-9d567d67086f"
      },
      "execution_count": 5,
      "outputs": [
        {
          "output_type": "execute_result",
          "data": {
            "text/plain": [
              "      id  gender   age  hypertension  heart_disease ever_married  \\\n",
              "0   9046    Male  67.0             0              1          Yes   \n",
              "1  51676  Female  61.0             0              0          Yes   \n",
              "2  31112    Male  80.0             0              1          Yes   \n",
              "3  60182  Female  49.0             0              0          Yes   \n",
              "4   1665  Female  79.0             1              0          Yes   \n",
              "\n",
              "       work_type Residence_type  avg_glucose_level   bmi   smoking_status  \\\n",
              "0        Private          Urban             228.69  36.6  formerly smoked   \n",
              "1  Self-employed          Rural             202.21   NaN     never smoked   \n",
              "2        Private          Rural             105.92  32.5     never smoked   \n",
              "3        Private          Urban             171.23  34.4           smokes   \n",
              "4  Self-employed          Rural             174.12  24.0     never smoked   \n",
              "\n",
              "   stroke  \n",
              "0       1  \n",
              "1       1  \n",
              "2       1  \n",
              "3       1  \n",
              "4       1  "
            ],
            "text/html": [
              "\n",
              "  <div id=\"df-7da47e84-316f-4d83-b9b9-65b5809cd99f\">\n",
              "    <div class=\"colab-df-container\">\n",
              "      <div>\n",
              "<style scoped>\n",
              "    .dataframe tbody tr th:only-of-type {\n",
              "        vertical-align: middle;\n",
              "    }\n",
              "\n",
              "    .dataframe tbody tr th {\n",
              "        vertical-align: top;\n",
              "    }\n",
              "\n",
              "    .dataframe thead th {\n",
              "        text-align: right;\n",
              "    }\n",
              "</style>\n",
              "<table border=\"1\" class=\"dataframe\">\n",
              "  <thead>\n",
              "    <tr style=\"text-align: right;\">\n",
              "      <th></th>\n",
              "      <th>id</th>\n",
              "      <th>gender</th>\n",
              "      <th>age</th>\n",
              "      <th>hypertension</th>\n",
              "      <th>heart_disease</th>\n",
              "      <th>ever_married</th>\n",
              "      <th>work_type</th>\n",
              "      <th>Residence_type</th>\n",
              "      <th>avg_glucose_level</th>\n",
              "      <th>bmi</th>\n",
              "      <th>smoking_status</th>\n",
              "      <th>stroke</th>\n",
              "    </tr>\n",
              "  </thead>\n",
              "  <tbody>\n",
              "    <tr>\n",
              "      <th>0</th>\n",
              "      <td>9046</td>\n",
              "      <td>Male</td>\n",
              "      <td>67.0</td>\n",
              "      <td>0</td>\n",
              "      <td>1</td>\n",
              "      <td>Yes</td>\n",
              "      <td>Private</td>\n",
              "      <td>Urban</td>\n",
              "      <td>228.69</td>\n",
              "      <td>36.6</td>\n",
              "      <td>formerly smoked</td>\n",
              "      <td>1</td>\n",
              "    </tr>\n",
              "    <tr>\n",
              "      <th>1</th>\n",
              "      <td>51676</td>\n",
              "      <td>Female</td>\n",
              "      <td>61.0</td>\n",
              "      <td>0</td>\n",
              "      <td>0</td>\n",
              "      <td>Yes</td>\n",
              "      <td>Self-employed</td>\n",
              "      <td>Rural</td>\n",
              "      <td>202.21</td>\n",
              "      <td>NaN</td>\n",
              "      <td>never smoked</td>\n",
              "      <td>1</td>\n",
              "    </tr>\n",
              "    <tr>\n",
              "      <th>2</th>\n",
              "      <td>31112</td>\n",
              "      <td>Male</td>\n",
              "      <td>80.0</td>\n",
              "      <td>0</td>\n",
              "      <td>1</td>\n",
              "      <td>Yes</td>\n",
              "      <td>Private</td>\n",
              "      <td>Rural</td>\n",
              "      <td>105.92</td>\n",
              "      <td>32.5</td>\n",
              "      <td>never smoked</td>\n",
              "      <td>1</td>\n",
              "    </tr>\n",
              "    <tr>\n",
              "      <th>3</th>\n",
              "      <td>60182</td>\n",
              "      <td>Female</td>\n",
              "      <td>49.0</td>\n",
              "      <td>0</td>\n",
              "      <td>0</td>\n",
              "      <td>Yes</td>\n",
              "      <td>Private</td>\n",
              "      <td>Urban</td>\n",
              "      <td>171.23</td>\n",
              "      <td>34.4</td>\n",
              "      <td>smokes</td>\n",
              "      <td>1</td>\n",
              "    </tr>\n",
              "    <tr>\n",
              "      <th>4</th>\n",
              "      <td>1665</td>\n",
              "      <td>Female</td>\n",
              "      <td>79.0</td>\n",
              "      <td>1</td>\n",
              "      <td>0</td>\n",
              "      <td>Yes</td>\n",
              "      <td>Self-employed</td>\n",
              "      <td>Rural</td>\n",
              "      <td>174.12</td>\n",
              "      <td>24.0</td>\n",
              "      <td>never smoked</td>\n",
              "      <td>1</td>\n",
              "    </tr>\n",
              "  </tbody>\n",
              "</table>\n",
              "</div>\n",
              "      <button class=\"colab-df-convert\" onclick=\"convertToInteractive('df-7da47e84-316f-4d83-b9b9-65b5809cd99f')\"\n",
              "              title=\"Convert this dataframe to an interactive table.\"\n",
              "              style=\"display:none;\">\n",
              "        \n",
              "  <svg xmlns=\"http://www.w3.org/2000/svg\" height=\"24px\"viewBox=\"0 0 24 24\"\n",
              "       width=\"24px\">\n",
              "    <path d=\"M0 0h24v24H0V0z\" fill=\"none\"/>\n",
              "    <path d=\"M18.56 5.44l.94 2.06.94-2.06 2.06-.94-2.06-.94-.94-2.06-.94 2.06-2.06.94zm-11 1L8.5 8.5l.94-2.06 2.06-.94-2.06-.94L8.5 2.5l-.94 2.06-2.06.94zm10 10l.94 2.06.94-2.06 2.06-.94-2.06-.94-.94-2.06-.94 2.06-2.06.94z\"/><path d=\"M17.41 7.96l-1.37-1.37c-.4-.4-.92-.59-1.43-.59-.52 0-1.04.2-1.43.59L10.3 9.45l-7.72 7.72c-.78.78-.78 2.05 0 2.83L4 21.41c.39.39.9.59 1.41.59.51 0 1.02-.2 1.41-.59l7.78-7.78 2.81-2.81c.8-.78.8-2.07 0-2.86zM5.41 20L4 18.59l7.72-7.72 1.47 1.35L5.41 20z\"/>\n",
              "  </svg>\n",
              "      </button>\n",
              "      \n",
              "  <style>\n",
              "    .colab-df-container {\n",
              "      display:flex;\n",
              "      flex-wrap:wrap;\n",
              "      gap: 12px;\n",
              "    }\n",
              "\n",
              "    .colab-df-convert {\n",
              "      background-color: #E8F0FE;\n",
              "      border: none;\n",
              "      border-radius: 50%;\n",
              "      cursor: pointer;\n",
              "      display: none;\n",
              "      fill: #1967D2;\n",
              "      height: 32px;\n",
              "      padding: 0 0 0 0;\n",
              "      width: 32px;\n",
              "    }\n",
              "\n",
              "    .colab-df-convert:hover {\n",
              "      background-color: #E2EBFA;\n",
              "      box-shadow: 0px 1px 2px rgba(60, 64, 67, 0.3), 0px 1px 3px 1px rgba(60, 64, 67, 0.15);\n",
              "      fill: #174EA6;\n",
              "    }\n",
              "\n",
              "    [theme=dark] .colab-df-convert {\n",
              "      background-color: #3B4455;\n",
              "      fill: #D2E3FC;\n",
              "    }\n",
              "\n",
              "    [theme=dark] .colab-df-convert:hover {\n",
              "      background-color: #434B5C;\n",
              "      box-shadow: 0px 1px 3px 1px rgba(0, 0, 0, 0.15);\n",
              "      filter: drop-shadow(0px 1px 2px rgba(0, 0, 0, 0.3));\n",
              "      fill: #FFFFFF;\n",
              "    }\n",
              "  </style>\n",
              "\n",
              "      <script>\n",
              "        const buttonEl =\n",
              "          document.querySelector('#df-7da47e84-316f-4d83-b9b9-65b5809cd99f button.colab-df-convert');\n",
              "        buttonEl.style.display =\n",
              "          google.colab.kernel.accessAllowed ? 'block' : 'none';\n",
              "\n",
              "        async function convertToInteractive(key) {\n",
              "          const element = document.querySelector('#df-7da47e84-316f-4d83-b9b9-65b5809cd99f');\n",
              "          const dataTable =\n",
              "            await google.colab.kernel.invokeFunction('convertToInteractive',\n",
              "                                                     [key], {});\n",
              "          if (!dataTable) return;\n",
              "\n",
              "          const docLinkHtml = 'Like what you see? Visit the ' +\n",
              "            '<a target=\"_blank\" href=https://colab.research.google.com/notebooks/data_table.ipynb>data table notebook</a>'\n",
              "            + ' to learn more about interactive tables.';\n",
              "          element.innerHTML = '';\n",
              "          dataTable['output_type'] = 'display_data';\n",
              "          await google.colab.output.renderOutput(dataTable, element);\n",
              "          const docLink = document.createElement('div');\n",
              "          docLink.innerHTML = docLinkHtml;\n",
              "          element.appendChild(docLink);\n",
              "        }\n",
              "      </script>\n",
              "    </div>\n",
              "  </div>\n",
              "  "
            ]
          },
          "metadata": {},
          "execution_count": 5
        }
      ]
    },
    {
      "cell_type": "code",
      "source": [
        "dataset.info()"
      ],
      "metadata": {
        "colab": {
          "base_uri": "https://localhost:8080/"
        },
        "id": "WsSCZSCxV_or",
        "outputId": "f12cc71c-6958-4b1c-db92-231ccfb0307b"
      },
      "execution_count": 6,
      "outputs": [
        {
          "output_type": "stream",
          "name": "stdout",
          "text": [
            "<class 'pandas.core.frame.DataFrame'>\n",
            "RangeIndex: 5110 entries, 0 to 5109\n",
            "Data columns (total 12 columns):\n",
            " #   Column             Non-Null Count  Dtype  \n",
            "---  ------             --------------  -----  \n",
            " 0   id                 5110 non-null   int64  \n",
            " 1   gender             5110 non-null   object \n",
            " 2   age                5110 non-null   float64\n",
            " 3   hypertension       5110 non-null   int64  \n",
            " 4   heart_disease      5110 non-null   int64  \n",
            " 5   ever_married       5110 non-null   object \n",
            " 6   work_type          5110 non-null   object \n",
            " 7   Residence_type     5110 non-null   object \n",
            " 8   avg_glucose_level  5110 non-null   float64\n",
            " 9   bmi                4909 non-null   float64\n",
            " 10  smoking_status     5110 non-null   object \n",
            " 11  stroke             5110 non-null   int64  \n",
            "dtypes: float64(3), int64(4), object(5)\n",
            "memory usage: 479.2+ KB\n"
          ]
        }
      ]
    },
    {
      "cell_type": "code",
      "source": [
        "dataset = dataset.drop([\"id\"],axis=1)"
      ],
      "metadata": {
        "id": "KX_RZR-dXfNm"
      },
      "execution_count": 7,
      "outputs": []
    },
    {
      "cell_type": "code",
      "source": [
        "#alcuni valori di bmi sono null -> li settiamo con la media/moda della colonna\n",
        "#alcune feature sono non numeriche\n",
        "#i valori non sono scalati tra 0 e 1"
      ],
      "metadata": {
        "id": "Dqrx-zkbaCU2"
      },
      "execution_count": 8,
      "outputs": []
    },
    {
      "cell_type": "code",
      "source": [
        "from sklearn.preprocessing import OrdinalEncoder,OneHotEncoder,StandardScaler\n",
        "\n",
        "\n",
        "ordinalencoder = OrdinalEncoder()\n",
        "onehot = OneHotEncoder()\n",
        "\n",
        "dataset[\"ever_married\"] = ordinalencoder.fit_transform(dataset[[\"ever_married\"]])\n",
        "dataset[\"Residence_type\"] = ordinalencoder.fit_transform(dataset[[\"Residence_type\"]])\n",
        "dataset[\"gender\"] = onehot.fit_transform(dataset[[\"gender\"]]).toarray()\n",
        "dataset[\"work_type\"] = onehot.fit_transform(dataset[[\"work_type\"]]).toarray()"
      ],
      "metadata": {
        "id": "SFsct3gdZ_MW"
      },
      "execution_count": 9,
      "outputs": []
    },
    {
      "cell_type": "code",
      "source": [
        "from sklearn.model_selection import StratifiedShuffleSplit\n",
        "\n",
        "split = StratifiedShuffleSplit(n_splits=1,test_size=0.1)\n",
        "\n",
        "for train_index,test_index in split.split(dataset,dataset[\"stroke\"]):\n",
        "  train_set = dataset.loc[train_index]\n",
        "  test_set = dataset.loc[test_index]"
      ],
      "metadata": {
        "id": "FiBLO128WLAi"
      },
      "execution_count": 10,
      "outputs": []
    },
    {
      "cell_type": "code",
      "source": [
        "train_labels = train_set[\"stroke\"].copy()\n",
        "train_set = train_set.drop(\"stroke\",axis=1)\n",
        "\n",
        "test_labels = test_set[\"stroke\"].copy()\n",
        "test_set = test_set.drop(\"stroke\",axis=1)\n"
      ],
      "metadata": {
        "id": "Ubja_ek0p9D1"
      },
      "execution_count": 11,
      "outputs": []
    },
    {
      "cell_type": "code",
      "source": [
        "bmi_median = train_set[\"bmi\"].median()\n",
        "train_set[\"bmi\"].fillna(bmi_median,inplace=True)\n",
        "\n",
        "bmi_median = test_set[\"bmi\"].median()\n",
        "test_set[\"bmi\"].fillna(bmi_median,inplace=True)"
      ],
      "metadata": {
        "id": "NMmkmUnHX0nT"
      },
      "execution_count": 12,
      "outputs": []
    },
    {
      "cell_type": "code",
      "source": [
        "train_set.info()"
      ],
      "metadata": {
        "colab": {
          "base_uri": "https://localhost:8080/"
        },
        "id": "gblXRQDlYqAa",
        "outputId": "e9c68b6d-1442-439b-af0e-dcd47204b971"
      },
      "execution_count": 13,
      "outputs": [
        {
          "output_type": "stream",
          "name": "stdout",
          "text": [
            "<class 'pandas.core.frame.DataFrame'>\n",
            "Int64Index: 4599 entries, 2781 to 3431\n",
            "Data columns (total 10 columns):\n",
            " #   Column             Non-Null Count  Dtype  \n",
            "---  ------             --------------  -----  \n",
            " 0   gender             4599 non-null   float64\n",
            " 1   age                4599 non-null   float64\n",
            " 2   hypertension       4599 non-null   int64  \n",
            " 3   heart_disease      4599 non-null   int64  \n",
            " 4   ever_married       4599 non-null   float64\n",
            " 5   work_type          4599 non-null   float64\n",
            " 6   Residence_type     4599 non-null   float64\n",
            " 7   avg_glucose_level  4599 non-null   float64\n",
            " 8   bmi                4599 non-null   float64\n",
            " 9   smoking_status     4599 non-null   object \n",
            "dtypes: float64(7), int64(2), object(1)\n",
            "memory usage: 395.2+ KB\n"
          ]
        }
      ]
    },
    {
      "cell_type": "code",
      "source": [
        "test_set.info()"
      ],
      "metadata": {
        "colab": {
          "base_uri": "https://localhost:8080/"
        },
        "id": "b6EpZ0hdYspQ",
        "outputId": "a7c517cf-2576-40a7-ad7f-8660b06d0c34"
      },
      "execution_count": 14,
      "outputs": [
        {
          "output_type": "stream",
          "name": "stdout",
          "text": [
            "<class 'pandas.core.frame.DataFrame'>\n",
            "Int64Index: 511 entries, 3100 to 3103\n",
            "Data columns (total 10 columns):\n",
            " #   Column             Non-Null Count  Dtype  \n",
            "---  ------             --------------  -----  \n",
            " 0   gender             511 non-null    float64\n",
            " 1   age                511 non-null    float64\n",
            " 2   hypertension       511 non-null    int64  \n",
            " 3   heart_disease      511 non-null    int64  \n",
            " 4   ever_married       511 non-null    float64\n",
            " 5   work_type          511 non-null    float64\n",
            " 6   Residence_type     511 non-null    float64\n",
            " 7   avg_glucose_level  511 non-null    float64\n",
            " 8   bmi                511 non-null    float64\n",
            " 9   smoking_status     511 non-null    object \n",
            "dtypes: float64(7), int64(2), object(1)\n",
            "memory usage: 43.9+ KB\n"
          ]
        }
      ]
    },
    {
      "cell_type": "code",
      "source": [
        "train_set[\"smoking_status\"].value_counts()"
      ],
      "metadata": {
        "colab": {
          "base_uri": "https://localhost:8080/"
        },
        "id": "_fhy_jfKmCmL",
        "outputId": "6e772aa2-fcc0-4a61-d35c-65290ffad1e7"
      },
      "execution_count": 15,
      "outputs": [
        {
          "output_type": "execute_result",
          "data": {
            "text/plain": [
              "never smoked       1691\n",
              "Unknown            1390\n",
              "formerly smoked     812\n",
              "smokes              706\n",
              "Name: smoking_status, dtype: int64"
            ]
          },
          "metadata": {},
          "execution_count": 15
        }
      ]
    },
    {
      "cell_type": "code",
      "source": [
        "import numpy as np\n",
        "train_set.loc[train_set[\"smoking_status\"] == \"Unknown\",\"smoking_status\"] = pd.NA\n"
      ],
      "metadata": {
        "id": "8UtppCY8du2Y"
      },
      "execution_count": 16,
      "outputs": []
    },
    {
      "cell_type": "code",
      "source": [
        "train_set[\"smoking_status\"].value_counts()"
      ],
      "metadata": {
        "colab": {
          "base_uri": "https://localhost:8080/"
        },
        "id": "-_TkZ4wLmFGj",
        "outputId": "84f5bb70-45bc-423f-beb4-feb4ee609283"
      },
      "execution_count": 17,
      "outputs": [
        {
          "output_type": "execute_result",
          "data": {
            "text/plain": [
              "never smoked       1691\n",
              "formerly smoked     812\n",
              "smokes              706\n",
              "Name: smoking_status, dtype: int64"
            ]
          },
          "metadata": {},
          "execution_count": 17
        }
      ]
    },
    {
      "cell_type": "code",
      "source": [
        "from sklearn.preprocessing import StandardScaler\n",
        "\n",
        "stdscaler = StandardScaler()\n",
        "\n",
        "smoking_status_mode = train_set[\"smoking_status\"].mode()[0]\n",
        "train_set[\"smoking_status\"].fillna(smoking_status_mode,inplace=True)\n",
        "\n",
        "\n"
      ],
      "metadata": {
        "id": "rc4dqRDZcQHQ"
      },
      "execution_count": 18,
      "outputs": []
    },
    {
      "cell_type": "code",
      "source": [
        "train_set[\"smoking_status\"].value_counts()"
      ],
      "metadata": {
        "colab": {
          "base_uri": "https://localhost:8080/"
        },
        "id": "py-M-w9ymKez",
        "outputId": "930914ee-5bec-457d-8bf1-dd46437fd1da"
      },
      "execution_count": 19,
      "outputs": [
        {
          "output_type": "execute_result",
          "data": {
            "text/plain": [
              "never smoked       3081\n",
              "formerly smoked     812\n",
              "smokes              706\n",
              "Name: smoking_status, dtype: int64"
            ]
          },
          "metadata": {},
          "execution_count": 19
        }
      ]
    },
    {
      "cell_type": "code",
      "source": [
        "ordinalencoder = OrdinalEncoder(categories=[['never smoked','formerly smoked','smokes']])\n",
        "train_set[\"smoking_status\"] = ordinalencoder.fit_transform(train_set[[\"smoking_status\"]])\n",
        "\n",
        "train_set = stdscaler.fit_transform(train_set)\n",
        "\n",
        "test_set.loc[test_set[\"smoking_status\"] == \"Unknown\",\"smoking_status\"] = pd.NA\n",
        "smoking_status_mode = test_set[\"smoking_status\"].mode()[0]\n",
        "test_set[\"smoking_status\"].fillna(smoking_status_mode,inplace=True)\n",
        "\n",
        "test_set[\"smoking_status\"] = ordinalencoder.fit_transform(test_set[[\"smoking_status\"]])\n",
        "test_set = stdscaler.fit_transform(test_set)"
      ],
      "metadata": {
        "id": "Gt93sM7akbz4"
      },
      "execution_count": 20,
      "outputs": []
    },
    {
      "cell_type": "code",
      "source": [
        "train_set.shape"
      ],
      "metadata": {
        "colab": {
          "base_uri": "https://localhost:8080/"
        },
        "id": "jrMexFTeoKmq",
        "outputId": "53876611-8089-409f-f468-b7e99bd37643"
      },
      "execution_count": 21,
      "outputs": [
        {
          "output_type": "execute_result",
          "data": {
            "text/plain": [
              "(4599, 10)"
            ]
          },
          "metadata": {},
          "execution_count": 21
        }
      ]
    },
    {
      "cell_type": "markdown",
      "source": [
        "# **Training and Testing**"
      ],
      "metadata": {
        "id": "VgDofNt9nG3T"
      }
    },
    {
      "cell_type": "code",
      "source": [
        "import tensorflow as tf"
      ],
      "metadata": {
        "id": "PDhfYq7hnjog"
      },
      "execution_count": 22,
      "outputs": []
    },
    {
      "cell_type": "code",
      "source": [
        "model = tf.keras.Sequential()\n",
        "model.add(tf.keras.layers.Dense(100,activation=\"relu\",input_shape=(10,)))\n",
        "model.add(tf.keras.layers.Dense(100,activation=\"relu\"))\n",
        "model.add(tf.keras.layers.Dense(1,activation=\"sigmoid\"))"
      ],
      "metadata": {
        "id": "yHiEdQVknaFv"
      },
      "execution_count": 24,
      "outputs": []
    },
    {
      "cell_type": "code",
      "source": [
        "model.compile(optimizer='adam',loss=\"binary_crossentropy\",metrics=[\"accuracy\"])"
      ],
      "metadata": {
        "id": "i0HObz6JrUex"
      },
      "execution_count": 25,
      "outputs": []
    },
    {
      "cell_type": "code",
      "source": [
        "def exponential_decay_fn(epoch):\n",
        "  return 0.01 * 0.1**(epoch/20)\n",
        "\n",
        "lr_scheduler = tf.keras.callbacks.LearningRateScheduler(exponential_decay_fn)"
      ],
      "metadata": {
        "id": "UcbV2UlNsZHI"
      },
      "execution_count": 26,
      "outputs": []
    },
    {
      "cell_type": "code",
      "source": [
        "earlystopping = tf.keras.callbacks.EarlyStopping(monitor = 'loss',patience=3)"
      ],
      "metadata": {
        "id": "5IECgzw0tPhk"
      },
      "execution_count": 29,
      "outputs": []
    },
    {
      "cell_type": "code",
      "source": [
        "model.fit(train_set,train_labels,epochs=30,validation_split=0.2,batch_size=32,callbacks=[lr_scheduler,earlystopping])"
      ],
      "metadata": {
        "colab": {
          "base_uri": "https://localhost:8080/"
        },
        "id": "0ks2fm_6r62f",
        "outputId": "daed13d1-b4c0-49fb-9490-3c91ff4343ed"
      },
      "execution_count": 30,
      "outputs": [
        {
          "output_type": "stream",
          "name": "stdout",
          "text": [
            "Epoch 1/30\n",
            "115/115 [==============================] - 0s 4ms/step - loss: 0.1556 - accuracy: 0.9522 - val_loss: 0.1744 - val_accuracy: 0.9500 - lr: 0.0100\n",
            "Epoch 2/30\n",
            "115/115 [==============================] - 0s 3ms/step - loss: 0.1459 - accuracy: 0.9508 - val_loss: 0.1767 - val_accuracy: 0.9500 - lr: 0.0089\n",
            "Epoch 3/30\n",
            "115/115 [==============================] - 0s 3ms/step - loss: 0.1379 - accuracy: 0.9519 - val_loss: 0.1890 - val_accuracy: 0.9478 - lr: 0.0079\n",
            "Epoch 4/30\n",
            "115/115 [==============================] - 0s 4ms/step - loss: 0.1341 - accuracy: 0.9516 - val_loss: 0.1804 - val_accuracy: 0.9533 - lr: 0.0071\n",
            "Epoch 5/30\n",
            "115/115 [==============================] - 0s 3ms/step - loss: 0.1286 - accuracy: 0.9546 - val_loss: 0.1983 - val_accuracy: 0.9522 - lr: 0.0063\n",
            "Epoch 6/30\n",
            "115/115 [==============================] - 0s 3ms/step - loss: 0.1282 - accuracy: 0.9541 - val_loss: 0.1884 - val_accuracy: 0.9457 - lr: 0.0056\n",
            "Epoch 7/30\n",
            "115/115 [==============================] - 0s 3ms/step - loss: 0.1231 - accuracy: 0.9565 - val_loss: 0.1977 - val_accuracy: 0.9489 - lr: 0.0050\n",
            "Epoch 8/30\n",
            "115/115 [==============================] - 0s 3ms/step - loss: 0.1176 - accuracy: 0.9565 - val_loss: 0.2178 - val_accuracy: 0.9457 - lr: 0.0045\n",
            "Epoch 9/30\n",
            "115/115 [==============================] - 0s 3ms/step - loss: 0.1158 - accuracy: 0.9573 - val_loss: 0.2091 - val_accuracy: 0.9467 - lr: 0.0040\n",
            "Epoch 10/30\n",
            "115/115 [==============================] - 0s 3ms/step - loss: 0.1088 - accuracy: 0.9581 - val_loss: 0.2197 - val_accuracy: 0.9446 - lr: 0.0035\n",
            "Epoch 11/30\n",
            "115/115 [==============================] - 0s 3ms/step - loss: 0.1061 - accuracy: 0.9600 - val_loss: 0.2379 - val_accuracy: 0.9478 - lr: 0.0032\n",
            "Epoch 12/30\n",
            "115/115 [==============================] - 0s 3ms/step - loss: 0.1027 - accuracy: 0.9606 - val_loss: 0.2463 - val_accuracy: 0.9500 - lr: 0.0028\n",
            "Epoch 13/30\n",
            "115/115 [==============================] - 0s 4ms/step - loss: 0.0979 - accuracy: 0.9617 - val_loss: 0.2617 - val_accuracy: 0.9446 - lr: 0.0025\n",
            "Epoch 14/30\n",
            "115/115 [==============================] - 0s 4ms/step - loss: 0.0963 - accuracy: 0.9617 - val_loss: 0.2637 - val_accuracy: 0.9489 - lr: 0.0022\n",
            "Epoch 15/30\n",
            "115/115 [==============================] - 0s 3ms/step - loss: 0.0917 - accuracy: 0.9628 - val_loss: 0.2691 - val_accuracy: 0.9435 - lr: 0.0020\n",
            "Epoch 16/30\n",
            "115/115 [==============================] - 0s 3ms/step - loss: 0.0900 - accuracy: 0.9649 - val_loss: 0.2709 - val_accuracy: 0.9467 - lr: 0.0018\n",
            "Epoch 17/30\n",
            "115/115 [==============================] - 0s 3ms/step - loss: 0.0866 - accuracy: 0.9652 - val_loss: 0.2766 - val_accuracy: 0.9478 - lr: 0.0016\n",
            "Epoch 18/30\n",
            "115/115 [==============================] - 0s 3ms/step - loss: 0.0853 - accuracy: 0.9652 - val_loss: 0.2815 - val_accuracy: 0.9467 - lr: 0.0014\n",
            "Epoch 19/30\n",
            "115/115 [==============================] - 0s 3ms/step - loss: 0.0833 - accuracy: 0.9671 - val_loss: 0.2892 - val_accuracy: 0.9478 - lr: 0.0013\n",
            "Epoch 20/30\n",
            "115/115 [==============================] - 0s 3ms/step - loss: 0.0810 - accuracy: 0.9682 - val_loss: 0.2923 - val_accuracy: 0.9446 - lr: 0.0011\n",
            "Epoch 21/30\n",
            "115/115 [==============================] - 0s 3ms/step - loss: 0.0799 - accuracy: 0.9685 - val_loss: 0.3007 - val_accuracy: 0.9478 - lr: 0.0010\n",
            "Epoch 22/30\n",
            "115/115 [==============================] - 0s 3ms/step - loss: 0.0780 - accuracy: 0.9682 - val_loss: 0.3022 - val_accuracy: 0.9478 - lr: 8.9125e-04\n",
            "Epoch 23/30\n",
            "115/115 [==============================] - 0s 3ms/step - loss: 0.0768 - accuracy: 0.9687 - val_loss: 0.3091 - val_accuracy: 0.9478 - lr: 7.9433e-04\n",
            "Epoch 24/30\n",
            "115/115 [==============================] - 0s 3ms/step - loss: 0.0759 - accuracy: 0.9690 - val_loss: 0.3140 - val_accuracy: 0.9446 - lr: 7.0795e-04\n",
            "Epoch 25/30\n",
            "115/115 [==============================] - 0s 3ms/step - loss: 0.0744 - accuracy: 0.9690 - val_loss: 0.3129 - val_accuracy: 0.9478 - lr: 6.3096e-04\n",
            "Epoch 26/30\n",
            "115/115 [==============================] - 0s 3ms/step - loss: 0.0740 - accuracy: 0.9701 - val_loss: 0.3205 - val_accuracy: 0.9457 - lr: 5.6234e-04\n",
            "Epoch 27/30\n",
            "115/115 [==============================] - 0s 3ms/step - loss: 0.0728 - accuracy: 0.9704 - val_loss: 0.3245 - val_accuracy: 0.9467 - lr: 5.0119e-04\n",
            "Epoch 28/30\n",
            "115/115 [==============================] - 0s 3ms/step - loss: 0.0723 - accuracy: 0.9693 - val_loss: 0.3238 - val_accuracy: 0.9467 - lr: 4.4668e-04\n",
            "Epoch 29/30\n",
            "115/115 [==============================] - 0s 3ms/step - loss: 0.0717 - accuracy: 0.9712 - val_loss: 0.3295 - val_accuracy: 0.9457 - lr: 3.9811e-04\n",
            "Epoch 30/30\n",
            "115/115 [==============================] - 0s 3ms/step - loss: 0.0709 - accuracy: 0.9704 - val_loss: 0.3304 - val_accuracy: 0.9467 - lr: 3.5481e-04\n"
          ]
        },
        {
          "output_type": "execute_result",
          "data": {
            "text/plain": [
              "<keras.callbacks.History at 0x7fa47b229850>"
            ]
          },
          "metadata": {},
          "execution_count": 30
        }
      ]
    },
    {
      "cell_type": "code",
      "source": [
        "model.evaluate(test_set,test_labels)"
      ],
      "metadata": {
        "colab": {
          "base_uri": "https://localhost:8080/"
        },
        "id": "Hyl8r0Uytmmu",
        "outputId": "607e9b8f-c4fc-45d5-b6f8-105478122869"
      },
      "execution_count": 31,
      "outputs": [
        {
          "output_type": "stream",
          "name": "stdout",
          "text": [
            "16/16 [==============================] - 0s 3ms/step - loss: 0.4938 - accuracy: 0.9393\n"
          ]
        },
        {
          "output_type": "execute_result",
          "data": {
            "text/plain": [
              "[0.4937700927257538, 0.9393346309661865]"
            ]
          },
          "metadata": {},
          "execution_count": 31
        }
      ]
    }
  ]
}